{
 "cells": [
  {
   "cell_type": "code",
   "execution_count": 1,
   "metadata": {
    "_cell_guid": "79c7e3d0-c299-4dcb-8224-4455121ee9b0",
    "_uuid": "d629ff2d2480ee46fbb7e2d37f6b5fab8052498a",
    "execution": {
     "iopub.execute_input": "2021-01-07T01:31:10.947983Z",
     "iopub.status.busy": "2021-01-07T01:31:10.947234Z",
     "iopub.status.idle": "2021-01-07T01:31:13.424874Z",
     "shell.execute_reply": "2021-01-07T01:31:13.425416Z"
    },
    "papermill": {
     "duration": 2.491493,
     "end_time": "2021-01-07T01:31:13.425608",
     "exception": false,
     "start_time": "2021-01-07T01:31:10.934115",
     "status": "completed"
    },
    "tags": []
   },
   "outputs": [
    {
     "data": {
      "text/html": [
       "<style type='text/css'>\n",
       ".datatable table.frame { margin-bottom: 0; }\n",
       ".datatable table.frame thead { border-bottom: none; }\n",
       ".datatable table.frame tr.coltypes td {  color: #FFFFFF;  line-height: 6px;  padding: 0 0.5em;}\n",
       ".datatable .bool    { background: #DDDD99; }\n",
       ".datatable .object  { background: #565656; }\n",
       ".datatable .int     { background: #5D9E5D; }\n",
       ".datatable .float   { background: #4040CC; }\n",
       ".datatable .str     { background: #CC4040; }\n",
       ".datatable .row_index {  background: var(--jp-border-color3);  border-right: 1px solid var(--jp-border-color0);  color: var(--jp-ui-font-color3);  font-size: 9px;}\n",
       ".datatable .frame tr.coltypes .row_index {  background: var(--jp-border-color0);}\n",
       ".datatable th:nth-child(2) { padding-left: 12px; }\n",
       ".datatable .hellipsis {  color: var(--jp-cell-editor-border-color);}\n",
       ".datatable .vellipsis {  background: var(--jp-layout-color0);  color: var(--jp-cell-editor-border-color);}\n",
       ".datatable .na {  color: var(--jp-cell-editor-border-color);  font-size: 80%;}\n",
       ".datatable .footer { font-size: 9px; }\n",
       ".datatable .frame_dimensions {  background: var(--jp-border-color3);  border-top: 1px solid var(--jp-border-color0);  color: var(--jp-ui-font-color3);  display: inline-block;  opacity: 0.6;  padding: 1px 10px 1px 5px;}\n",
       "</style>\n"
      ],
      "text/plain": [
       "<IPython.core.display.HTML object>"
      ]
     },
     "metadata": {},
     "output_type": "display_data"
    }
   ],
   "source": [
    "import numpy as np\n",
    "import pandas as pd\n",
    "\n",
    "import gc\n",
    "import random\n",
    "from tqdm.notebook import tqdm\n",
    "from sklearn.metrics import roc_auc_score\n",
    "from sklearn.model_selection import train_test_split\n",
    "\n",
    "import joblib\n",
    "import seaborn as sns\n",
    "import matplotlib.pyplot as plt\n",
    "\n",
    "import torch\n",
    "import torch.nn as nn\n",
    "import torch.nn.utils.rnn as rnn_utils\n",
    "from torch.autograd import Variable\n",
    "from torch.utils.data import Dataset, DataLoader\n",
    "from pathlib import Path\n",
    "import datatable as dt"
   ]
  },
  {
   "cell_type": "markdown",
   "metadata": {
    "papermill": {
     "duration": 0.008726,
     "end_time": "2021-01-07T01:31:13.443921",
     "exception": false,
     "start_time": "2021-01-07T01:31:13.435195",
     "status": "completed"
    },
    "tags": []
   },
   "source": [
    "### Load Data"
   ]
  },
  {
   "cell_type": "code",
   "execution_count": 2,
   "metadata": {
    "execution": {
     "iopub.execute_input": "2021-01-07T01:31:13.467383Z",
     "iopub.status.busy": "2021-01-07T01:31:13.466612Z",
     "iopub.status.idle": "2021-01-07T01:31:13.468874Z",
     "shell.execute_reply": "2021-01-07T01:31:13.469356Z"
    },
    "papermill": {
     "duration": 0.016453,
     "end_time": "2021-01-07T01:31:13.469542",
     "exception": false,
     "start_time": "2021-01-07T01:31:13.453089",
     "status": "completed"
    },
    "tags": []
   },
   "outputs": [],
   "source": [
    "path = Path('/kaggle/input')\n",
    "assert path.exists()"
   ]
  },
  {
   "cell_type": "code",
   "execution_count": 3,
   "metadata": {
    "execution": {
     "iopub.execute_input": "2021-01-07T01:31:13.491550Z",
     "iopub.status.busy": "2021-01-07T01:31:13.490758Z",
     "iopub.status.idle": "2021-01-07T01:32:59.808745Z",
     "shell.execute_reply": "2021-01-07T01:32:59.809525Z"
    },
    "papermill": {
     "duration": 106.330816,
     "end_time": "2021-01-07T01:32:59.809730",
     "exception": false,
     "start_time": "2021-01-07T01:31:13.478914",
     "status": "completed"
    },
    "tags": []
   },
   "outputs": [
    {
     "name": "stdout",
     "output_type": "stream",
     "text": [
      "CPU times: user 58.6 s, sys: 16.4 s, total: 1min 14s\n",
      "Wall time: 1min 46s\n"
     ]
    }
   ],
   "source": [
    "%%time\n",
    "\n",
    "data_types_dict = {\n",
    "#     'row_id': 'int64',\n",
    "    'content_type_id': 'bool',\n",
    "    'timestamp': 'int64',\n",
    "    'user_id': 'int32', \n",
    "    'content_id': 'int16', \n",
    "    'task_container_id': 'int8',\n",
    "    'answered_correctly': 'int8', \n",
    "    'prior_question_elapsed_time': 'float32', \n",
    "    'prior_question_had_explanation': 'bool'\n",
    "}\n",
    "target = 'answered_correctly'\n",
    "train_df = dt.fread(path/'riiid-test-answer-prediction/train.csv', columns=set(data_types_dict.keys())).to_pandas()"
   ]
  },
  {
   "cell_type": "code",
   "execution_count": 4,
   "metadata": {
    "execution": {
     "iopub.execute_input": "2021-01-07T01:32:59.850924Z",
     "iopub.status.busy": "2021-01-07T01:32:59.845059Z",
     "iopub.status.idle": "2021-01-07T01:32:59.873904Z",
     "shell.execute_reply": "2021-01-07T01:32:59.874736Z"
    },
    "papermill": {
     "duration": 0.055592,
     "end_time": "2021-01-07T01:32:59.874940",
     "exception": false,
     "start_time": "2021-01-07T01:32:59.819348",
     "status": "completed"
    },
    "tags": []
   },
   "outputs": [
    {
     "name": "stdout",
     "output_type": "stream",
     "text": [
      "<class 'pandas.core.frame.DataFrame'>\n",
      "RangeIndex: 101230332 entries, 0 to 101230331\n",
      "Data columns (total 8 columns):\n",
      " #   Column                          Dtype  \n",
      "---  ------                          -----  \n",
      " 0   timestamp                       int64  \n",
      " 1   user_id                         int32  \n",
      " 2   content_id                      int32  \n",
      " 3   content_type_id                 bool   \n",
      " 4   task_container_id               int32  \n",
      " 5   answered_correctly              int32  \n",
      " 6   prior_question_elapsed_time     float64\n",
      " 7   prior_question_had_explanation  object \n",
      "dtypes: bool(1), float64(1), int32(4), int64(1), object(1)\n",
      "memory usage: 3.9+ GB\n"
     ]
    }
   ],
   "source": [
    "train_df.info()"
   ]
  },
  {
   "cell_type": "code",
   "execution_count": 5,
   "metadata": {
    "execution": {
     "iopub.execute_input": "2021-01-07T01:32:59.903013Z",
     "iopub.status.busy": "2021-01-07T01:32:59.902150Z",
     "iopub.status.idle": "2021-01-07T01:33:40.396240Z",
     "shell.execute_reply": "2021-01-07T01:33:40.396862Z"
    },
    "papermill": {
     "duration": 40.511602,
     "end_time": "2021-01-07T01:33:40.397015",
     "exception": false,
     "start_time": "2021-01-07T01:32:59.885413",
     "status": "completed"
    },
    "tags": []
   },
   "outputs": [
    {
     "name": "stdout",
     "output_type": "stream",
     "text": [
      "CPU times: user 32 s, sys: 8.55 s, total: 40.5 s\n",
      "Wall time: 40.5 s\n"
     ]
    }
   ],
   "source": [
    "%%time\n",
    "\n",
    "train_df = train_df[train_df.content_type_id == False]\n",
    "\n",
    "#arrange by timestamp\n",
    "train_df = train_df.sort_values(['timestamp'], ascending=True).reset_index(drop = True)"
   ]
  },
  {
   "cell_type": "code",
   "execution_count": 6,
   "metadata": {
    "execution": {
     "iopub.execute_input": "2021-01-07T01:33:40.450948Z",
     "iopub.status.busy": "2021-01-07T01:33:40.420372Z",
     "iopub.status.idle": "2021-01-07T01:33:40.453187Z",
     "shell.execute_reply": "2021-01-07T01:33:40.453770Z"
    },
    "papermill": {
     "duration": 0.046698,
     "end_time": "2021-01-07T01:33:40.453916",
     "exception": false,
     "start_time": "2021-01-07T01:33:40.407218",
     "status": "completed"
    },
    "tags": []
   },
   "outputs": [],
   "source": [
    "del train_df['timestamp']\n",
    "del train_df['content_type_id']"
   ]
  },
  {
   "cell_type": "markdown",
   "metadata": {
    "papermill": {
     "duration": 0.009684,
     "end_time": "2021-01-07T01:33:40.473981",
     "exception": false,
     "start_time": "2021-01-07T01:33:40.464297",
     "status": "completed"
    },
    "tags": []
   },
   "source": [
    "### Pre-process"
   ]
  },
  {
   "cell_type": "code",
   "execution_count": 7,
   "metadata": {
    "execution": {
     "iopub.execute_input": "2021-01-07T01:33:40.500225Z",
     "iopub.status.busy": "2021-01-07T01:33:40.499528Z",
     "iopub.status.idle": "2021-01-07T01:33:41.428809Z",
     "shell.execute_reply": "2021-01-07T01:33:41.429345Z"
    },
    "papermill": {
     "duration": 0.94513,
     "end_time": "2021-01-07T01:33:41.429525",
     "exception": false,
     "start_time": "2021-01-07T01:33:40.484395",
     "status": "completed"
    },
    "tags": []
   },
   "outputs": [
    {
     "name": "stdout",
     "output_type": "stream",
     "text": [
      "number skills 13523\n"
     ]
    },
    {
     "data": {
      "text/plain": [
       "['n_skill.pkl']"
      ]
     },
     "execution_count": 7,
     "metadata": {},
     "output_type": "execute_result"
    }
   ],
   "source": [
    "n_skill = train_df[\"content_id\"].nunique()\n",
    "print(\"number skills\", n_skill)\n",
    "joblib.dump(n_skill, \"n_skill.pkl\")"
   ]
  },
  {
   "cell_type": "code",
   "execution_count": 8,
   "metadata": {
    "execution": {
     "iopub.execute_input": "2021-01-07T01:33:41.918435Z",
     "iopub.status.busy": "2021-01-07T01:33:41.917202Z",
     "iopub.status.idle": "2021-01-07T01:34:46.566231Z",
     "shell.execute_reply": "2021-01-07T01:34:46.566865Z"
    },
    "papermill": {
     "duration": 65.126473,
     "end_time": "2021-01-07T01:34:46.567052",
     "exception": false,
     "start_time": "2021-01-07T01:33:41.440579",
     "status": "completed"
    },
    "tags": []
   },
   "outputs": [
    {
     "name": "stdout",
     "output_type": "stream",
     "text": [
      "CPU times: user 58.8 s, sys: 6.23 s, total: 1min 5s\n",
      "Wall time: 1min 5s\n"
     ]
    }
   ],
   "source": [
    "%%time\n",
    "\n",
    "group = train_df[['user_id', 'content_id', 'answered_correctly']].groupby('user_id').apply(lambda r: (r['content_id'].values, r['answered_correctly'].values))\n",
    "\n",
    "joblib.dump(group, \"group.pkl\")\n",
    "\n",
    "del train_df"
   ]
  }
 ],
 "metadata": {
  "kernelspec": {
   "display_name": "Python 3",
   "language": "python",
   "name": "python3"
  },
  "language_info": {
   "codemirror_mode": {
    "name": "ipython",
    "version": 3
   },
   "file_extension": ".py",
   "mimetype": "text/x-python",
   "name": "python",
   "nbconvert_exporter": "python",
   "pygments_lexer": "ipython3",
   "version": "3.7.6"
  },
  "papermill": {
   "duration": 222.545283,
   "end_time": "2021-01-07T01:34:48.165729",
   "environment_variables": {},
   "exception": null,
   "input_path": "__notebook__.ipynb",
   "output_path": "__notebook__.ipynb",
   "parameters": {},
   "start_time": "2021-01-07T01:31:05.620446",
   "version": "2.1.0"
  }
 },
 "nbformat": 4,
 "nbformat_minor": 4
}
