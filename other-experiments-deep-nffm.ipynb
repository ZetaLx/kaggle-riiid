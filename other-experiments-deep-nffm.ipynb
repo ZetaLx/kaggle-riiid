{
 "cells": [
  {
   "cell_type": "markdown",
   "metadata": {
    "papermill": {
     "duration": 0.041594,
     "end_time": "2020-11-22T13:35:28.717426",
     "exception": false,
     "start_time": "2020-11-22T13:35:28.675832",
     "status": "completed"
    },
    "tags": []
   },
   "source": [
    "# 导入工具包"
   ]
  },
  {
   "cell_type": "code",
   "execution_count": 1,
   "metadata": {
    "_cell_guid": "79c7e3d0-c299-4dcb-8224-4455121ee9b0",
    "_uuid": "d629ff2d2480ee46fbb7e2d37f6b5fab8052498a",
    "execution": {
     "iopub.execute_input": "2020-11-22T13:35:28.803355Z",
     "iopub.status.busy": "2020-11-22T13:35:28.802503Z",
     "iopub.status.idle": "2020-11-22T13:35:36.042928Z",
     "shell.execute_reply": "2020-11-22T13:35:36.042324Z"
    },
    "papermill": {
     "duration": 7.286705,
     "end_time": "2020-11-22T13:35:36.043080",
     "exception": false,
     "start_time": "2020-11-22T13:35:28.756375",
     "status": "completed"
    },
    "tags": []
   },
   "outputs": [],
   "source": [
    "import pandas as pd\n",
    "import numpy as np\n",
    "import lightgbm as lgb\n",
    "from sklearn.metrics import roc_auc_score\n",
    "import tensorflow as tf\n",
    "from sklearn.model_selection import train_test_split\n",
    "import os\n",
    "import riiideducation\n",
    "env = riiideducation.make_env()\n",
    "os.environ[\"CUDA_VISIBLE_DEVICES\"] = \"0\""
   ]
  },
  {
   "cell_type": "markdown",
   "metadata": {
    "papermill": {
     "duration": 0.040405,
     "end_time": "2020-11-22T13:35:36.121379",
     "exception": false,
     "start_time": "2020-11-22T13:35:36.080974",
     "status": "completed"
    },
    "tags": []
   },
   "source": [
    "# 数据地址"
   ]
  },
  {
   "cell_type": "code",
   "execution_count": 2,
   "metadata": {
    "execution": {
     "iopub.execute_input": "2020-11-22T13:35:36.203771Z",
     "iopub.status.busy": "2020-11-22T13:35:36.202929Z",
     "iopub.status.idle": "2020-11-22T13:35:36.206895Z",
     "shell.execute_reply": "2020-11-22T13:35:36.206386Z"
    },
    "papermill": {
     "duration": 0.046944,
     "end_time": "2020-11-22T13:35:36.206990",
     "exception": false,
     "start_time": "2020-11-22T13:35:36.160046",
     "status": "completed"
    },
    "tags": []
   },
   "outputs": [],
   "source": [
    "dir_path = '/kaggle/input/riiid-test-answer-prediction/'\n",
    "file_train = 'train.csv'\n",
    "file_questions = 'questions.csv'\n",
    "file_lectures = 'lectures.csv'"
   ]
  },
  {
   "cell_type": "markdown",
   "metadata": {
    "papermill": {
     "duration": 0.038801,
     "end_time": "2020-11-22T13:35:36.285274",
     "exception": false,
     "start_time": "2020-11-22T13:35:36.246473",
     "status": "completed"
    },
    "tags": []
   },
   "source": [
    "# 数据大小"
   ]
  },
  {
   "cell_type": "code",
   "execution_count": 3,
   "metadata": {
    "execution": {
     "iopub.execute_input": "2020-11-22T13:35:36.369698Z",
     "iopub.status.busy": "2020-11-22T13:35:36.367827Z",
     "iopub.status.idle": "2020-11-22T13:35:36.370505Z",
     "shell.execute_reply": "2020-11-22T13:35:36.371052Z"
    },
    "papermill": {
     "duration": 0.04676,
     "end_time": "2020-11-22T13:35:36.371188",
     "exception": false,
     "start_time": "2020-11-22T13:35:36.324428",
     "status": "completed"
    },
    "tags": []
   },
   "outputs": [],
   "source": [
    "# nrows =  5 * 100 * 10000\n",
    "nrows = None"
   ]
  },
  {
   "cell_type": "markdown",
   "metadata": {
    "papermill": {
     "duration": 0.03855,
     "end_time": "2020-11-22T13:35:36.448699",
     "exception": false,
     "start_time": "2020-11-22T13:35:36.410149",
     "status": "completed"
    },
    "tags": []
   },
   "source": [
    "# 读取训练数据"
   ]
  },
  {
   "cell_type": "code",
   "execution_count": 4,
   "metadata": {
    "execution": {
     "iopub.execute_input": "2020-11-22T13:35:36.535289Z",
     "iopub.status.busy": "2020-11-22T13:35:36.534557Z",
     "iopub.status.idle": "2020-11-22T13:37:31.021897Z",
     "shell.execute_reply": "2020-11-22T13:37:31.020356Z"
    },
    "papermill": {
     "duration": 114.534288,
     "end_time": "2020-11-22T13:37:31.022055",
     "exception": false,
     "start_time": "2020-11-22T13:35:36.487767",
     "status": "completed"
    },
    "tags": []
   },
   "outputs": [],
   "source": [
    "train = pd.read_csv(\n",
    "                    dir_path + file_train, \n",
    "                    nrows=nrows, \n",
    "                    usecols=['row_id', 'timestamp', 'user_id', 'content_id', \n",
    "                             'content_type_id', 'task_container_id', 'answered_correctly',\n",
    "                            'prior_question_elapsed_time','prior_question_had_explanation'],\n",
    "                    dtype={\n",
    "                            'row_id': 'int64',\n",
    "                            'timestamp': 'int64',\n",
    "                            'user_id': 'int32',\n",
    "                            'content_id': 'int16',\n",
    "                            'content_type_id': 'int8',\n",
    "                            'task_container_id': 'int8',\n",
    "                            'answered_correctly': 'int8',\n",
    "                            'prior_question_elapsed_time': 'float32',\n",
    "                            'prior_question_had_explanation': 'str'\n",
    "                        }\n",
    "                   )"
   ]
  },
  {
   "cell_type": "markdown",
   "metadata": {
    "papermill": {
     "duration": 0.037938,
     "end_time": "2020-11-22T13:37:31.099536",
     "exception": false,
     "start_time": "2020-11-22T13:37:31.061598",
     "status": "completed"
    },
    "tags": []
   },
   "source": [
    "# 读取问题数据"
   ]
  },
  {
   "cell_type": "code",
   "execution_count": 5,
   "metadata": {
    "execution": {
     "iopub.execute_input": "2020-11-22T13:37:31.185587Z",
     "iopub.status.busy": "2020-11-22T13:37:31.184696Z",
     "iopub.status.idle": "2020-11-22T13:37:31.195067Z",
     "shell.execute_reply": "2020-11-22T13:37:31.194509Z"
    },
    "papermill": {
     "duration": 0.057763,
     "end_time": "2020-11-22T13:37:31.195186",
     "exception": false,
     "start_time": "2020-11-22T13:37:31.137423",
     "status": "completed"
    },
    "tags": []
   },
   "outputs": [],
   "source": [
    "questions = pd.read_csv(\n",
    "                        dir_path + file_questions, \n",
    "                        nrows=nrows,\n",
    "                        usecols=['question_id','bundle_id','part'], \n",
    "                        dtype={\n",
    "                           'question_id': 'int16',\n",
    "                           'bundle_id': 'int16',\n",
    "                           'part': 'int8',\n",
    "                       }\n",
    "                    )"
   ]
  },
  {
   "cell_type": "markdown",
   "metadata": {
    "papermill": {
     "duration": 0.03879,
     "end_time": "2020-11-22T13:37:31.273140",
     "exception": false,
     "start_time": "2020-11-22T13:37:31.234350",
     "status": "completed"
    },
    "tags": []
   },
   "source": [
    "# 读取讲课数据"
   ]
  },
  {
   "cell_type": "code",
   "execution_count": 6,
   "metadata": {
    "execution": {
     "iopub.execute_input": "2020-11-22T13:37:31.359712Z",
     "iopub.status.busy": "2020-11-22T13:37:31.358806Z",
     "iopub.status.idle": "2020-11-22T13:37:31.366380Z",
     "shell.execute_reply": "2020-11-22T13:37:31.365694Z"
    },
    "papermill": {
     "duration": 0.053819,
     "end_time": "2020-11-22T13:37:31.366490",
     "exception": false,
     "start_time": "2020-11-22T13:37:31.312671",
     "status": "completed"
    },
    "tags": []
   },
   "outputs": [],
   "source": [
    "lectures = pd.read_csv(\n",
    "                       dir_path + file_lectures, \n",
    "                       usecols=['lecture_id','tag','part','type_of'], \n",
    "                       nrows=nrows,\n",
    "                       dtype={\n",
    "                           'lecture_id': 'int16',\n",
    "                           'tag': 'int16',\n",
    "                           'part': 'int8',\n",
    "                           'type_of': 'str'\n",
    "                       }\n",
    "                    )"
   ]
  },
  {
   "cell_type": "markdown",
   "metadata": {
    "papermill": {
     "duration": 0.038821,
     "end_time": "2020-11-22T13:37:31.444716",
     "exception": false,
     "start_time": "2020-11-22T13:37:31.405895",
     "status": "completed"
    },
    "tags": []
   },
   "source": [
    "# prior_question_had_explanation 特征处理"
   ]
  },
  {
   "cell_type": "code",
   "execution_count": 7,
   "metadata": {
    "execution": {
     "iopub.execute_input": "2020-11-22T13:37:38.907610Z",
     "iopub.status.busy": "2020-11-22T13:37:35.341118Z",
     "iopub.status.idle": "2020-11-22T13:37:50.169241Z",
     "shell.execute_reply": "2020-11-22T13:37:50.168691Z"
    },
    "papermill": {
     "duration": 18.68488,
     "end_time": "2020-11-22T13:37:50.169362",
     "exception": false,
     "start_time": "2020-11-22T13:37:31.484482",
     "status": "completed"
    },
    "tags": []
   },
   "outputs": [],
   "source": [
    "train['prior_question_had_explanation'] = train['prior_question_had_explanation'].map({'True':1,'False':0}).fillna(-1).astype(np.int8)"
   ]
  },
  {
   "cell_type": "markdown",
   "metadata": {
    "papermill": {
     "duration": 0.039107,
     "end_time": "2020-11-22T13:37:50.247100",
     "exception": false,
     "start_time": "2020-11-22T13:37:50.207993",
     "status": "completed"
    },
    "tags": []
   },
   "source": [
    "# 只保留问题数据"
   ]
  },
  {
   "cell_type": "code",
   "execution_count": 8,
   "metadata": {
    "execution": {
     "iopub.execute_input": "2020-11-22T13:37:50.332379Z",
     "iopub.status.busy": "2020-11-22T13:37:50.331466Z",
     "iopub.status.idle": "2020-11-22T13:37:56.848912Z",
     "shell.execute_reply": "2020-11-22T13:37:56.848341Z"
    },
    "papermill": {
     "duration": 6.561891,
     "end_time": "2020-11-22T13:37:56.849057",
     "exception": false,
     "start_time": "2020-11-22T13:37:50.287166",
     "status": "completed"
    },
    "tags": []
   },
   "outputs": [],
   "source": [
    "train = train[train['content_type_id']==0]"
   ]
  },
  {
   "cell_type": "markdown",
   "metadata": {
    "papermill": {
     "duration": 0.038195,
     "end_time": "2020-11-22T13:37:56.925708",
     "exception": false,
     "start_time": "2020-11-22T13:37:56.887513",
     "status": "completed"
    },
    "tags": []
   },
   "source": [
    "# 释放内存"
   ]
  },
  {
   "cell_type": "code",
   "execution_count": 9,
   "metadata": {
    "execution": {
     "iopub.execute_input": "2020-11-22T13:37:57.008264Z",
     "iopub.status.busy": "2020-11-22T13:37:57.007529Z",
     "iopub.status.idle": "2020-11-22T13:37:57.011995Z",
     "shell.execute_reply": "2020-11-22T13:37:57.011439Z"
    },
    "papermill": {
     "duration": 0.047465,
     "end_time": "2020-11-22T13:37:57.012115",
     "exception": false,
     "start_time": "2020-11-22T13:37:56.964650",
     "status": "completed"
    },
    "tags": []
   },
   "outputs": [],
   "source": [
    "import gc"
   ]
  },
  {
   "cell_type": "code",
   "execution_count": 10,
   "metadata": {
    "execution": {
     "iopub.execute_input": "2020-11-22T13:37:57.226434Z",
     "iopub.status.busy": "2020-11-22T13:37:57.225562Z",
     "iopub.status.idle": "2020-11-22T13:37:57.229701Z",
     "shell.execute_reply": "2020-11-22T13:37:57.230196Z"
    },
    "papermill": {
     "duration": 0.178429,
     "end_time": "2020-11-22T13:37:57.230327",
     "exception": false,
     "start_time": "2020-11-22T13:37:57.051898",
     "status": "completed"
    },
    "tags": []
   },
   "outputs": [
    {
     "data": {
      "text/plain": [
       "62"
      ]
     },
     "execution_count": 10,
     "metadata": {},
     "output_type": "execute_result"
    }
   ],
   "source": [
    "gc.collect()"
   ]
  },
  {
   "cell_type": "markdown",
   "metadata": {
    "papermill": {
     "duration": 0.038867,
     "end_time": "2020-11-22T13:37:57.310183",
     "exception": false,
     "start_time": "2020-11-22T13:37:57.271316",
     "status": "completed"
    },
    "tags": []
   },
   "source": [
    "# tailf选取部分数据进行建模，减少内存压力"
   ]
  },
  {
   "cell_type": "code",
   "execution_count": 11,
   "metadata": {
    "execution": {
     "iopub.execute_input": "2020-11-22T13:37:57.395545Z",
     "iopub.status.busy": "2020-11-22T13:37:57.394349Z",
     "iopub.status.idle": "2020-11-22T13:38:05.908373Z",
     "shell.execute_reply": "2020-11-22T13:38:05.907533Z"
    },
    "papermill": {
     "duration": 8.559752,
     "end_time": "2020-11-22T13:38:05.908517",
     "exception": false,
     "start_time": "2020-11-22T13:37:57.348765",
     "status": "completed"
    },
    "tags": []
   },
   "outputs": [],
   "source": [
    "# 压缩内存\n",
    "max_num = 200\n",
    "train = train.groupby(['user_id']).tail(max_num)"
   ]
  },
  {
   "cell_type": "markdown",
   "metadata": {
    "papermill": {
     "duration": 0.037861,
     "end_time": "2020-11-22T13:38:05.985466",
     "exception": false,
     "start_time": "2020-11-22T13:38:05.947605",
     "status": "completed"
    },
    "tags": []
   },
   "source": [
    "# 训练数据和问题数据进行关联"
   ]
  },
  {
   "cell_type": "code",
   "execution_count": 12,
   "metadata": {
    "execution": {
     "iopub.execute_input": "2020-11-22T13:38:06.080833Z",
     "iopub.status.busy": "2020-11-22T13:38:06.079194Z",
     "iopub.status.idle": "2020-11-22T13:38:11.875386Z",
     "shell.execute_reply": "2020-11-22T13:38:11.875894Z"
    },
    "papermill": {
     "duration": 5.851606,
     "end_time": "2020-11-22T13:38:11.876067",
     "exception": false,
     "start_time": "2020-11-22T13:38:06.024461",
     "status": "completed"
    },
    "tags": []
   },
   "outputs": [],
   "source": [
    "train = pd.merge(\n",
    "        left=train,\n",
    "        right=questions,\n",
    "        how='left',\n",
    "        left_on='content_id',\n",
    "        right_on='question_id'\n",
    "        )"
   ]
  },
  {
   "cell_type": "markdown",
   "metadata": {
    "papermill": {
     "duration": 0.038899,
     "end_time": "2020-11-22T13:38:11.954064",
     "exception": false,
     "start_time": "2020-11-22T13:38:11.915165",
     "status": "completed"
    },
    "tags": []
   },
   "source": [
    "# 训练数据和讲座数据进行关联"
   ]
  },
  {
   "cell_type": "code",
   "execution_count": 13,
   "metadata": {
    "execution": {
     "iopub.execute_input": "2020-11-22T13:38:12.038616Z",
     "iopub.status.busy": "2020-11-22T13:38:12.037871Z",
     "iopub.status.idle": "2020-11-22T13:38:12.042512Z",
     "shell.execute_reply": "2020-11-22T13:38:12.041813Z"
    },
    "papermill": {
     "duration": 0.048685,
     "end_time": "2020-11-22T13:38:12.042632",
     "exception": false,
     "start_time": "2020-11-22T13:38:11.993947",
     "status": "completed"
    },
    "tags": []
   },
   "outputs": [],
   "source": [
    "# train = pd.merge(\n",
    "#         left=train,\n",
    "#         right=lectures,\n",
    "#         how='right',\n",
    "#         left_on='content_id',\n",
    "#         right_on='lecture_id'\n",
    "#         )"
   ]
  },
  {
   "cell_type": "markdown",
   "metadata": {
    "papermill": {
     "duration": 0.039171,
     "end_time": "2020-11-22T13:38:12.119795",
     "exception": false,
     "start_time": "2020-11-22T13:38:12.080624",
     "status": "completed"
    },
    "tags": []
   },
   "source": [
    "# 训练数据填充0"
   ]
  },
  {
   "cell_type": "code",
   "execution_count": 14,
   "metadata": {
    "execution": {
     "iopub.execute_input": "2020-11-22T13:38:12.215098Z",
     "iopub.status.busy": "2020-11-22T13:38:12.213309Z",
     "iopub.status.idle": "2020-11-22T13:38:12.545538Z",
     "shell.execute_reply": "2020-11-22T13:38:12.544940Z"
    },
    "papermill": {
     "duration": 0.380676,
     "end_time": "2020-11-22T13:38:12.545659",
     "exception": false,
     "start_time": "2020-11-22T13:38:12.164983",
     "status": "completed"
    },
    "tags": []
   },
   "outputs": [],
   "source": [
    "train = train.fillna(0)"
   ]
  },
  {
   "cell_type": "code",
   "execution_count": 15,
   "metadata": {
    "execution": {
     "iopub.execute_input": "2020-11-22T13:38:12.628909Z",
     "iopub.status.busy": "2020-11-22T13:38:12.627992Z",
     "iopub.status.idle": "2020-11-22T13:38:12.642389Z",
     "shell.execute_reply": "2020-11-22T13:38:12.643251Z"
    },
    "papermill": {
     "duration": 0.05952,
     "end_time": "2020-11-22T13:38:12.643462",
     "exception": false,
     "start_time": "2020-11-22T13:38:12.583942",
     "status": "completed"
    },
    "tags": []
   },
   "outputs": [
    {
     "name": "stdout",
     "output_type": "stream",
     "text": [
      "             row_id  timestamp     user_id  content_id  content_type_id  \\\n",
      "0                 0          0         115        5692                0   \n",
      "1                 1      56943         115        5716                0   \n",
      "2                 2     118363         115         128                0   \n",
      "3                 3     131167         115        7860                0   \n",
      "4                 4     137965         115        7922                0   \n",
      "...             ...        ...         ...         ...              ...   \n",
      "32215867  101230327  428564420  2147482888        3586                0   \n",
      "32215868  101230328  428585000  2147482888        6341                0   \n",
      "32215869  101230329  428613475  2147482888        4212                0   \n",
      "32215870  101230330  428649406  2147482888        6343                0   \n",
      "32215871  101230331  428692118  2147482888        7995                0   \n",
      "\n",
      "          task_container_id  answered_correctly  prior_question_elapsed_time  \\\n",
      "0                         1                   1                          0.0   \n",
      "1                         2                   1                      37000.0   \n",
      "2                         0                   1                      55000.0   \n",
      "3                         3                   1                      19000.0   \n",
      "4                         4                   1                      11000.0   \n",
      "...                     ...                 ...                          ...   \n",
      "32215867                 22                   1                      18000.0   \n",
      "32215868                 23                   1                      14000.0   \n",
      "32215869                 24                   1                      14000.0   \n",
      "32215870                 25                   0                      22000.0   \n",
      "32215871                 26                   1                      29000.0   \n",
      "\n",
      "          prior_question_had_explanation  question_id  bundle_id  part  \n",
      "0                                     -1         5692       5692     5  \n",
      "1                                      0         5716       5716     5  \n",
      "2                                      0          128        128     1  \n",
      "3                                      0         7860       7860     1  \n",
      "4                                      0         7922       7922     1  \n",
      "...                                  ...          ...        ...   ...  \n",
      "32215867                               1         3586       3586     5  \n",
      "32215868                               1         6341       6341     5  \n",
      "32215869                               1         4212       4212     5  \n",
      "32215870                               1         6343       6343     5  \n",
      "32215871                               1         7995       7995     5  \n",
      "\n",
      "[32215872 rows x 12 columns]\n"
     ]
    }
   ],
   "source": [
    "print(train)"
   ]
  },
  {
   "cell_type": "markdown",
   "metadata": {
    "papermill": {
     "duration": 0.038998,
     "end_time": "2020-11-22T13:38:12.729477",
     "exception": false,
     "start_time": "2020-11-22T13:38:12.690479",
     "status": "completed"
    },
    "tags": []
   },
   "source": [
    "# 类别特征转换函数"
   ]
  },
  {
   "cell_type": "code",
   "execution_count": 16,
   "metadata": {
    "execution": {
     "iopub.execute_input": "2020-11-22T13:38:12.819643Z",
     "iopub.status.busy": "2020-11-22T13:38:12.817853Z",
     "iopub.status.idle": "2020-11-22T13:38:12.820446Z",
     "shell.execute_reply": "2020-11-22T13:38:12.821037Z"
    },
    "papermill": {
     "duration": 0.050842,
     "end_time": "2020-11-22T13:38:12.821164",
     "exception": false,
     "start_time": "2020-11-22T13:38:12.770322",
     "status": "completed"
    },
    "tags": []
   },
   "outputs": [],
   "source": [
    "class cat_deal:\n",
    "    def __init__(self):\n",
    "        self.max_len = 0\n",
    "        self.dict_map = {}\n",
    "    \n",
    "    def fit(self, cat_list):\n",
    "        index = 1 \n",
    "        for cat_i in cat_list:\n",
    "            if cat_i not in self.dict_map:\n",
    "                self.dict_map[cat_i] = index\n",
    "                index += 1\n",
    "        self.max_len = index + 1\n",
    "        \n",
    "    def transform(self, cat_list):\n",
    "        cat_transform_list = []\n",
    "        for cat_i in cat_list:\n",
    "            if cat_i in self.dict_map:\n",
    "                cat_transform_list.append(self.dict_map[cat_i])\n",
    "            else:\n",
    "                cat_transform_list.append(0)\n",
    "        return cat_transform_list"
   ]
  },
  {
   "cell_type": "markdown",
   "metadata": {
    "papermill": {
     "duration": 0.040072,
     "end_time": "2020-11-22T13:38:12.907815",
     "exception": false,
     "start_time": "2020-11-22T13:38:12.867743",
     "status": "completed"
    },
    "tags": []
   },
   "source": [
    "# 浮点特征转换函数"
   ]
  },
  {
   "cell_type": "code",
   "execution_count": 17,
   "metadata": {
    "execution": {
     "iopub.execute_input": "2020-11-22T13:38:12.996602Z",
     "iopub.status.busy": "2020-11-22T13:38:12.995753Z",
     "iopub.status.idle": "2020-11-22T13:38:12.999035Z",
     "shell.execute_reply": "2020-11-22T13:38:12.998445Z"
    },
    "papermill": {
     "duration": 0.051902,
     "end_time": "2020-11-22T13:38:12.999133",
     "exception": false,
     "start_time": "2020-11-22T13:38:12.947231",
     "status": "completed"
    },
    "tags": []
   },
   "outputs": [],
   "source": [
    "class float_deal:\n",
    "    def __init__(self):\n",
    "        self.max = 0\n",
    "        self.min = 0\n",
    "        self.max_min = 0 \n",
    "        \n",
    "    def fit(self, float_list):\n",
    "        for float_i in float_list:\n",
    "            if float_i < self.min:\n",
    "                self.min = float_i\n",
    "            if float_i > self.max:\n",
    "                self.max = float_i\n",
    "        self.max_min = self.max - self.min\n",
    "        \n",
    "    def transform(self, float_list):\n",
    "        float_transform_list = []\n",
    "        for float_i in float_list:\n",
    "            if float_i < self.min:\n",
    "                float_transform_list.append(0)\n",
    "            elif float_i > self.max:\n",
    "                float_transform_list.append(1)\n",
    "            else:\n",
    "                float_transform_list.append(float_i/self.max_min)\n",
    "        return float_transform_list"
   ]
  },
  {
   "cell_type": "markdown",
   "metadata": {
    "papermill": {
     "duration": 0.042382,
     "end_time": "2020-11-22T13:38:13.080818",
     "exception": false,
     "start_time": "2020-11-22T13:38:13.038436",
     "status": "completed"
    },
    "tags": []
   },
   "source": [
    "# 处理类别特征"
   ]
  },
  {
   "cell_type": "code",
   "execution_count": 18,
   "metadata": {
    "execution": {
     "iopub.execute_input": "2020-11-22T13:38:13.199593Z",
     "iopub.status.busy": "2020-11-22T13:38:13.194549Z",
     "iopub.status.idle": "2020-11-22T13:42:12.709938Z",
     "shell.execute_reply": "2020-11-22T13:42:12.710584Z"
    },
    "papermill": {
     "duration": 239.578531,
     "end_time": "2020-11-22T13:42:12.710742",
     "exception": false,
     "start_time": "2020-11-22T13:38:13.132211",
     "status": "completed"
    },
    "tags": []
   },
   "outputs": [
    {
     "name": "stdout",
     "output_type": "stream",
     "text": [
      "user_id\n",
      "content_id\n",
      "task_container_id\n",
      "prior_question_had_explanation\n",
      "bundle_id\n",
      "part\n"
     ]
    }
   ],
   "source": [
    "dict_cat_class = {}\n",
    "for columns in ['user_id','content_id',\\\n",
    "                'task_container_id','prior_question_had_explanation',\\\n",
    "                'bundle_id','part']:\n",
    "    dict_cat_class[columns] = cat_deal()\n",
    "    dict_cat_class[columns].fit(train[columns])\n",
    "\n",
    "    train[columns] = dict_cat_class[columns].transform(train[columns])\n",
    "    print(columns)"
   ]
  },
  {
   "cell_type": "markdown",
   "metadata": {
    "papermill": {
     "duration": 0.041857,
     "end_time": "2020-11-22T13:42:12.794490",
     "exception": false,
     "start_time": "2020-11-22T13:42:12.752633",
     "status": "completed"
    },
    "tags": []
   },
   "source": [
    "# 处理浮点特征"
   ]
  },
  {
   "cell_type": "code",
   "execution_count": 19,
   "metadata": {
    "execution": {
     "iopub.execute_input": "2020-11-22T13:42:12.898684Z",
     "iopub.status.busy": "2020-11-22T13:42:12.893509Z",
     "iopub.status.idle": "2020-11-22T13:43:26.110728Z",
     "shell.execute_reply": "2020-11-22T13:43:26.111772Z"
    },
    "papermill": {
     "duration": 73.275742,
     "end_time": "2020-11-22T13:43:26.112062",
     "exception": false,
     "start_time": "2020-11-22T13:42:12.836320",
     "status": "completed"
    },
    "tags": []
   },
   "outputs": [
    {
     "name": "stdout",
     "output_type": "stream",
     "text": [
      "timestamp\n",
      "prior_question_elapsed_time\n"
     ]
    }
   ],
   "source": [
    "dict_float_class = {}\n",
    "for columns in ['timestamp','prior_question_elapsed_time']:\n",
    "    dict_float_class[columns] = float_deal()\n",
    "    dict_float_class[columns].fit(train[columns])\n",
    "    \n",
    "    train[columns] = dict_float_class[columns].transform(train[columns])\n",
    "    print(columns)"
   ]
  },
  {
   "cell_type": "markdown",
   "metadata": {
    "papermill": {
     "duration": 0.053637,
     "end_time": "2020-11-22T13:43:26.223225",
     "exception": false,
     "start_time": "2020-11-22T13:43:26.169588",
     "status": "completed"
    },
    "tags": []
   },
   "source": [
    "# 模型使用的函数（keras Lambda函数包装）"
   ]
  },
  {
   "cell_type": "code",
   "execution_count": 20,
   "metadata": {
    "execution": {
     "iopub.execute_input": "2020-11-22T13:43:26.343880Z",
     "iopub.status.busy": "2020-11-22T13:43:26.342940Z",
     "iopub.status.idle": "2020-11-22T13:43:26.346190Z",
     "shell.execute_reply": "2020-11-22T13:43:26.345618Z"
    },
    "papermill": {
     "duration": 0.054783,
     "end_time": "2020-11-22T13:43:26.346321",
     "exception": false,
     "start_time": "2020-11-22T13:43:26.291538",
     "status": "completed"
    },
    "tags": []
   },
   "outputs": [],
   "source": [
    "def squeeze(embedding):\n",
    "    embedding = tf.squeeze(embedding,axis=1)\n",
    "    return embedding\n",
    "def concat(embedding_list):\n",
    "    embedding = tf.concat(embedding_list, axis=1)\n",
    "    return embedding\n",
    "def multiply(multi_x_y):\n",
    "    multi_x = multi_x_y[0]\n",
    "    multi_y = multi_x_y[1]\n",
    "    multi_x_y = tf.multiply(multi_x, multi_y)\n",
    "    return multi_x_y"
   ]
  },
  {
   "cell_type": "code",
   "execution_count": 21,
   "metadata": {
    "execution": {
     "iopub.execute_input": "2020-11-22T13:43:26.436238Z",
     "iopub.status.busy": "2020-11-22T13:43:26.434409Z",
     "iopub.status.idle": "2020-11-22T13:43:26.437148Z",
     "shell.execute_reply": "2020-11-22T13:43:26.437628Z"
    },
    "papermill": {
     "duration": 0.049022,
     "end_time": "2020-11-22T13:43:26.437741",
     "exception": false,
     "start_time": "2020-11-22T13:43:26.388719",
     "status": "completed"
    },
    "tags": []
   },
   "outputs": [],
   "source": [
    "# tf.squeeze?"
   ]
  },
  {
   "cell_type": "markdown",
   "metadata": {
    "papermill": {
     "duration": 0.039666,
     "end_time": "2020-11-22T13:43:26.519558",
     "exception": false,
     "start_time": "2020-11-22T13:43:26.479892",
     "status": "completed"
    },
    "tags": []
   },
   "source": [
    "# 建立模型和编译"
   ]
  },
  {
   "cell_type": "code",
   "execution_count": 22,
   "metadata": {
    "execution": {
     "iopub.execute_input": "2020-11-22T13:43:26.628250Z",
     "iopub.status.busy": "2020-11-22T13:43:26.616383Z",
     "iopub.status.idle": "2020-11-22T13:43:29.557241Z",
     "shell.execute_reply": "2020-11-22T13:43:29.556653Z"
    },
    "papermill": {
     "duration": 2.9955,
     "end_time": "2020-11-22T13:43:29.557363",
     "exception": false,
     "start_time": "2020-11-22T13:43:26.561863",
     "status": "completed"
    },
    "tags": []
   },
   "outputs": [],
   "source": [
    "input_timestamp = tf.keras.Input(shape=(1,))\n",
    "input_prior_question_elapsed_time = tf.keras.Input(shape=(1,))\n",
    "\n",
    "# input int\n",
    "input_user = tf.keras.Input(shape=(1,))\n",
    "input_content = tf.keras.Input(shape=(1,))\n",
    "input_task_container = tf.keras.Input(shape=(1,))\n",
    "input_prior_question_had_explanation = tf.keras.Input(shape=(1,))\n",
    "input_bundle = tf.keras.Input(shape=(1,))\n",
    "input_part = tf.keras.Input(shape=(1,))\n",
    "# input_question = tf.keras.Input(shape=(1,))\n",
    "\n",
    "inputs = [input_timestamp,input_prior_question_elapsed_time,\\\n",
    "         input_user,input_content,\\\n",
    "         input_task_container,input_prior_question_had_explanation,\\\n",
    "         input_bundle,input_part]\n",
    "# inputs = tf.keras.layers.Lambda(concat)(inputs)\n",
    "\n",
    "# input session\n",
    "# input_tags = Input(shape=(1))\n",
    "\n",
    "# embedding float\n",
    "embedding_timestamp = tf.keras.layers.Dense(64, activation=tf.nn.sigmoid)(input_timestamp)\n",
    "embedding_prior_question_elapsed_time = tf.keras.layers.Dense(64, activation=tf.nn.sigmoid)(input_prior_question_elapsed_time)\n",
    "\n",
    "# embedding int \n",
    "embedding_user = tf.keras.layers.Embedding(dict_cat_class['user_id'].max_len,\n",
    "                                           64, input_length=1)(input_user)\n",
    "embedding_user = tf.keras.layers.Lambda(squeeze)(embedding_user)\n",
    "\n",
    "embedding_content = tf.keras.layers.Embedding(dict_cat_class['content_id'].max_len,\n",
    "                                              64, input_length=1)(input_content)\n",
    "embedding_content = tf.keras.layers.Lambda(squeeze)(embedding_content)\n",
    "\n",
    "embedding_task_container = tf.keras.layers.Embedding(dict_cat_class['task_container_id'].max_len,\n",
    "                                                     64, input_length=1)(input_task_container)\n",
    "embedding_task_container = tf.keras.layers.Lambda(squeeze)(embedding_task_container)\n",
    "\n",
    "embedding_prior_question_had_explanation = tf.keras.layers.Embedding(dict_cat_class['prior_question_had_explanation'].max_len, \n",
    "                                                                     64, input_length=1)(input_prior_question_had_explanation)\n",
    "embedding_prior_question_had_explanation = tf.keras.layers.Lambda(squeeze)(embedding_prior_question_had_explanation)\n",
    "\n",
    "embedding_bundle = tf.keras.layers.Embedding(dict_cat_class['bundle_id'].max_len,\n",
    "                                             64, input_length=1)(input_bundle)\n",
    "embedding_bundle = tf.keras.layers.Lambda(squeeze)(embedding_bundle)\n",
    "\n",
    "embedding_part = tf.keras.layers.Embedding(dict_cat_class['part'].max_len,\n",
    "                                           64, input_length=1)(input_part)\n",
    "embedding_part = tf.keras.layers.Lambda(squeeze)(embedding_part)\n",
    "\n",
    "# embedding_question = tf.keras.layers.Embedding(dict_cat_class['question_id'].max_len,\n",
    "#                                            64, input_length=1)(input_question)\n",
    "# embedding_question = tf.keras.layers.Lambda(squeeze)(embedding_question)\n",
    "\n",
    "embedding_all = [embedding_timestamp,embedding_prior_question_elapsed_time,\\\n",
    "                embedding_user, embedding_content, embedding_task_container,\\\n",
    "                embedding_prior_question_had_explanation, embedding_bundle, embedding_part]\n",
    "\n",
    "\n",
    "nffm1, nffm2 = [], []\n",
    "for i, embedding_i in enumerate(embedding_all):\n",
    "    for j, embedding_j in enumerate(embedding_all):\n",
    "        if i > j:\n",
    "            nffm1.append(embedding_i), nffm2.append(embedding_j)\n",
    "nffm1_layer = tf.keras.layers.Lambda(concat)(nffm1)\n",
    "nffm2_layer = tf.keras.layers.Lambda(concat)(nffm2)     \n",
    "\n",
    "nffm_all = tf.keras.layers.Lambda(multiply)([nffm1_layer,nffm2_layer])\n",
    "    \n",
    "logit = tf.keras.layers.Dense(1, activation=tf.nn.sigmoid)(nffm_all)\n",
    "\n",
    "\n",
    "model = tf.keras.models.Model(inputs=inputs, outputs=logit)\n",
    "\n",
    "model.compile(loss='binary_crossentropy',\n",
    "              optimizer='adam',\n",
    "              metrics=['binary_crossentropy'])"
   ]
  },
  {
   "cell_type": "code",
   "execution_count": 23,
   "metadata": {
    "execution": {
     "iopub.execute_input": "2020-11-22T13:43:29.650778Z",
     "iopub.status.busy": "2020-11-22T13:43:29.649908Z",
     "iopub.status.idle": "2020-11-22T13:43:29.659949Z",
     "shell.execute_reply": "2020-11-22T13:43:29.659438Z"
    },
    "papermill": {
     "duration": 0.060958,
     "end_time": "2020-11-22T13:43:29.660074",
     "exception": false,
     "start_time": "2020-11-22T13:43:29.599116",
     "status": "completed"
    },
    "tags": []
   },
   "outputs": [],
   "source": [
    "nffm1, nffm2 = [], []\n",
    "for i, embedding_i in enumerate(embedding_all):\n",
    "    for j, embedding_j in enumerate(embedding_all):\n",
    "        if i > j:\n",
    "            nffm1.append(embedding_i), nffm2.append(embedding_j)\n",
    "nffm1_layer = tf.keras.layers.Lambda(concat)(nffm1)\n",
    "nffm2_layer = tf.keras.layers.Lambda(concat)(nffm2) \n",
    "\n",
    "nffm_all = tf.keras.layers.Lambda(multiply)([nffm1_layer,nffm2_layer])"
   ]
  },
  {
   "cell_type": "code",
   "execution_count": 24,
   "metadata": {
    "execution": {
     "iopub.execute_input": "2020-11-22T13:43:29.756008Z",
     "iopub.status.busy": "2020-11-22T13:43:29.747675Z",
     "iopub.status.idle": "2020-11-22T13:43:29.761249Z",
     "shell.execute_reply": "2020-11-22T13:43:29.769785Z"
    },
    "papermill": {
     "duration": 0.068387,
     "end_time": "2020-11-22T13:43:29.769990",
     "exception": false,
     "start_time": "2020-11-22T13:43:29.701603",
     "status": "completed"
    },
    "tags": []
   },
   "outputs": [
    {
     "name": "stdout",
     "output_type": "stream",
     "text": [
      "Model: \"functional_1\"\n",
      "__________________________________________________________________________________________________\n",
      "Layer (type)                    Output Shape         Param #     Connected to                     \n",
      "==================================================================================================\n",
      "input_3 (InputLayer)            [(None, 1)]          0                                            \n",
      "__________________________________________________________________________________________________\n",
      "input_4 (InputLayer)            [(None, 1)]          0                                            \n",
      "__________________________________________________________________________________________________\n",
      "input_5 (InputLayer)            [(None, 1)]          0                                            \n",
      "__________________________________________________________________________________________________\n",
      "input_6 (InputLayer)            [(None, 1)]          0                                            \n",
      "__________________________________________________________________________________________________\n",
      "input_7 (InputLayer)            [(None, 1)]          0                                            \n",
      "__________________________________________________________________________________________________\n",
      "input_8 (InputLayer)            [(None, 1)]          0                                            \n",
      "__________________________________________________________________________________________________\n",
      "input_2 (InputLayer)            [(None, 1)]          0                                            \n",
      "__________________________________________________________________________________________________\n",
      "embedding (Embedding)           (None, 1, 64)        25194112    input_3[0][0]                    \n",
      "__________________________________________________________________________________________________\n",
      "embedding_1 (Embedding)         (None, 1, 64)        865152      input_4[0][0]                    \n",
      "__________________________________________________________________________________________________\n",
      "embedding_2 (Embedding)         (None, 1, 64)        16512       input_5[0][0]                    \n",
      "__________________________________________________________________________________________________\n",
      "embedding_3 (Embedding)         (None, 1, 64)        320         input_6[0][0]                    \n",
      "__________________________________________________________________________________________________\n",
      "embedding_4 (Embedding)         (None, 1, 64)        624768      input_7[0][0]                    \n",
      "__________________________________________________________________________________________________\n",
      "embedding_5 (Embedding)         (None, 1, 64)        576         input_8[0][0]                    \n",
      "__________________________________________________________________________________________________\n",
      "input_1 (InputLayer)            [(None, 1)]          0                                            \n",
      "__________________________________________________________________________________________________\n",
      "dense_1 (Dense)                 (None, 64)           128         input_2[0][0]                    \n",
      "__________________________________________________________________________________________________\n",
      "lambda (Lambda)                 (None, 64)           0           embedding[0][0]                  \n",
      "__________________________________________________________________________________________________\n",
      "lambda_1 (Lambda)               (None, 64)           0           embedding_1[0][0]                \n",
      "__________________________________________________________________________________________________\n",
      "lambda_2 (Lambda)               (None, 64)           0           embedding_2[0][0]                \n",
      "__________________________________________________________________________________________________\n",
      "lambda_3 (Lambda)               (None, 64)           0           embedding_3[0][0]                \n",
      "__________________________________________________________________________________________________\n",
      "lambda_4 (Lambda)               (None, 64)           0           embedding_4[0][0]                \n",
      "__________________________________________________________________________________________________\n",
      "lambda_5 (Lambda)               (None, 64)           0           embedding_5[0][0]                \n",
      "__________________________________________________________________________________________________\n",
      "dense (Dense)                   (None, 64)           128         input_1[0][0]                    \n",
      "__________________________________________________________________________________________________\n",
      "lambda_6 (Lambda)               (None, 1792)         0           dense_1[0][0]                    \n",
      "                                                                 lambda[0][0]                     \n",
      "                                                                 lambda[0][0]                     \n",
      "                                                                 lambda_1[0][0]                   \n",
      "                                                                 lambda_1[0][0]                   \n",
      "                                                                 lambda_1[0][0]                   \n",
      "                                                                 lambda_2[0][0]                   \n",
      "                                                                 lambda_2[0][0]                   \n",
      "                                                                 lambda_2[0][0]                   \n",
      "                                                                 lambda_2[0][0]                   \n",
      "                                                                 lambda_3[0][0]                   \n",
      "                                                                 lambda_3[0][0]                   \n",
      "                                                                 lambda_3[0][0]                   \n",
      "                                                                 lambda_3[0][0]                   \n",
      "                                                                 lambda_3[0][0]                   \n",
      "                                                                 lambda_4[0][0]                   \n",
      "                                                                 lambda_4[0][0]                   \n",
      "                                                                 lambda_4[0][0]                   \n",
      "                                                                 lambda_4[0][0]                   \n",
      "                                                                 lambda_4[0][0]                   \n",
      "                                                                 lambda_4[0][0]                   \n",
      "                                                                 lambda_5[0][0]                   \n",
      "                                                                 lambda_5[0][0]                   \n",
      "                                                                 lambda_5[0][0]                   \n",
      "                                                                 lambda_5[0][0]                   \n",
      "                                                                 lambda_5[0][0]                   \n",
      "                                                                 lambda_5[0][0]                   \n",
      "                                                                 lambda_5[0][0]                   \n",
      "__________________________________________________________________________________________________\n",
      "lambda_7 (Lambda)               (None, 1792)         0           dense[0][0]                      \n",
      "                                                                 dense[0][0]                      \n",
      "                                                                 dense_1[0][0]                    \n",
      "                                                                 dense[0][0]                      \n",
      "                                                                 dense_1[0][0]                    \n",
      "                                                                 lambda[0][0]                     \n",
      "                                                                 dense[0][0]                      \n",
      "                                                                 dense_1[0][0]                    \n",
      "                                                                 lambda[0][0]                     \n",
      "                                                                 lambda_1[0][0]                   \n",
      "                                                                 dense[0][0]                      \n",
      "                                                                 dense_1[0][0]                    \n",
      "                                                                 lambda[0][0]                     \n",
      "                                                                 lambda_1[0][0]                   \n",
      "                                                                 lambda_2[0][0]                   \n",
      "                                                                 dense[0][0]                      \n",
      "                                                                 dense_1[0][0]                    \n",
      "                                                                 lambda[0][0]                     \n",
      "                                                                 lambda_1[0][0]                   \n",
      "                                                                 lambda_2[0][0]                   \n",
      "                                                                 lambda_3[0][0]                   \n",
      "                                                                 dense[0][0]                      \n",
      "                                                                 dense_1[0][0]                    \n",
      "                                                                 lambda[0][0]                     \n",
      "                                                                 lambda_1[0][0]                   \n",
      "                                                                 lambda_2[0][0]                   \n",
      "                                                                 lambda_3[0][0]                   \n",
      "                                                                 lambda_4[0][0]                   \n",
      "__________________________________________________________________________________________________\n",
      "lambda_8 (Lambda)               (None, 1792)         0           lambda_6[0][0]                   \n",
      "                                                                 lambda_7[0][0]                   \n",
      "__________________________________________________________________________________________________\n",
      "dense_2 (Dense)                 (None, 1)            1793        lambda_8[0][0]                   \n",
      "==================================================================================================\n",
      "Total params: 26,703,489\n",
      "Trainable params: 26,703,489\n",
      "Non-trainable params: 0\n",
      "__________________________________________________________________________________________________\n"
     ]
    }
   ],
   "source": [
    "model.summary()"
   ]
  },
  {
   "cell_type": "markdown",
   "metadata": {
    "papermill": {
     "duration": 0.047331,
     "end_time": "2020-11-22T13:43:29.873593",
     "exception": false,
     "start_time": "2020-11-22T13:43:29.826262",
     "status": "completed"
    },
    "tags": []
   },
   "source": [
    "# 模型训练"
   ]
  },
  {
   "cell_type": "code",
   "execution_count": 25,
   "metadata": {
    "execution": {
     "iopub.execute_input": "2020-11-22T13:43:29.972953Z",
     "iopub.status.busy": "2020-11-22T13:43:29.972171Z",
     "iopub.status.idle": "2020-11-22T13:43:29.976390Z",
     "shell.execute_reply": "2020-11-22T13:43:29.975712Z"
    },
    "papermill": {
     "duration": 0.056991,
     "end_time": "2020-11-22T13:43:29.976495",
     "exception": false,
     "start_time": "2020-11-22T13:43:29.919504",
     "status": "completed"
    },
    "tags": []
   },
   "outputs": [],
   "source": [
    "plateau = tf.keras.callbacks.ReduceLROnPlateau(monitor='val_loss',\n",
    "                            verbose=0,\n",
    "                            mode='min',\n",
    "                            factor=0.1,\n",
    "                            patience=6)\n",
    "\n",
    "early_stopping = tf.keras.callbacks.EarlyStopping(monitor='val_loss',\n",
    "                               verbose=0,\n",
    "                               mode='min',\n",
    "                               patience=10)\n",
    "\n",
    "# 保存\n",
    "checkpoint = tf.keras.callbacks.ModelCheckpoint(f'fold.h5',\n",
    "                             monitor='val_loss',\n",
    "                             verbose=0,\n",
    "                             mode='min',\n",
    "                             save_best_only=True)"
   ]
  },
  {
   "cell_type": "markdown",
   "metadata": {
    "papermill": {
     "duration": 0.051718,
     "end_time": "2020-11-22T13:43:30.074229",
     "exception": false,
     "start_time": "2020-11-22T13:43:30.022511",
     "status": "completed"
    },
    "tags": []
   },
   "source": [
    "# 验证集和训练集初始数据获取"
   ]
  },
  {
   "cell_type": "code",
   "execution_count": 26,
   "metadata": {
    "execution": {
     "iopub.execute_input": "2020-11-22T13:43:30.171952Z",
     "iopub.status.busy": "2020-11-22T13:43:30.170956Z",
     "iopub.status.idle": "2020-11-22T13:44:11.554168Z",
     "shell.execute_reply": "2020-11-22T13:44:11.552917Z"
    },
    "papermill": {
     "duration": 41.435882,
     "end_time": "2020-11-22T13:44:11.554348",
     "exception": false,
     "start_time": "2020-11-22T13:43:30.118466",
     "status": "completed"
    },
    "tags": []
   },
   "outputs": [
    {
     "name": "stdout",
     "output_type": "stream",
     "text": [
      "393656\n",
      "787225\n",
      "1180734\n",
      "1574202\n",
      "1967602\n",
      "2360984\n",
      "2754348\n",
      "3146047\n",
      "3537383\n",
      "3928411\n"
     ]
    }
   ],
   "source": [
    "valid = pd.DataFrame()\n",
    "for i in range(10):\n",
    "    \n",
    "    # 获取训练标签数据\n",
    "    last_records = train.drop_duplicates('user_id', keep='last')\n",
    "    \n",
    "    # 获取训练标签以前的数据\n",
    "    map__last_records__user_row = dict(zip(last_records['user_id'],last_records['row_id']))\n",
    "    train['filter_row'] = train['user_id'].map(map__last_records__user_row)\n",
    "    train = train[train['row_id']<train['filter_row']]\n",
    "\n",
    "    # 特征加入训练集\n",
    "    valid = valid.append(last_records)\n",
    "    print(len(valid))"
   ]
  },
  {
   "cell_type": "markdown",
   "metadata": {
    "papermill": {
     "duration": 0.046879,
     "end_time": "2020-11-22T13:44:11.650657",
     "exception": false,
     "start_time": "2020-11-22T13:44:11.603778",
     "status": "completed"
    },
    "tags": []
   },
   "source": [
    "# 获取训练和验证数据"
   ]
  },
  {
   "cell_type": "code",
   "execution_count": 27,
   "metadata": {
    "execution": {
     "iopub.execute_input": "2020-11-22T13:44:11.751856Z",
     "iopub.status.busy": "2020-11-22T13:44:11.750923Z",
     "iopub.status.idle": "2020-11-22T13:44:11.753114Z",
     "shell.execute_reply": "2020-11-22T13:44:11.753697Z"
    },
    "papermill": {
     "duration": 0.056068,
     "end_time": "2020-11-22T13:44:11.753837",
     "exception": false,
     "start_time": "2020-11-22T13:44:11.697769",
     "status": "completed"
    },
    "tags": []
   },
   "outputs": [],
   "source": [
    "features_columns = ['timestamp','prior_question_elapsed_time',\\\n",
    "                    'user_id','content_id',\\\n",
    "                    'task_container_id','prior_question_had_explanation',\\\n",
    "                    'bundle_id','part']\n",
    "\n",
    "X_test, y_test = [valid[columns].values for columns in features_columns], valid['answered_correctly'].values\n",
    "# del valid\n",
    "\n",
    "X_train, y_train = [train[columns].values for columns in features_columns], train['answered_correctly'].values\n",
    "# del train"
   ]
  },
  {
   "cell_type": "code",
   "execution_count": 28,
   "metadata": {
    "execution": {
     "iopub.execute_input": "2020-11-22T13:44:11.850172Z",
     "iopub.status.busy": "2020-11-22T13:44:11.849474Z",
     "iopub.status.idle": "2020-11-22T13:44:11.855599Z",
     "shell.execute_reply": "2020-11-22T13:44:11.855103Z"
    },
    "papermill": {
     "duration": 0.054961,
     "end_time": "2020-11-22T13:44:11.855712",
     "exception": false,
     "start_time": "2020-11-22T13:44:11.800751",
     "status": "completed"
    },
    "tags": []
   },
   "outputs": [
    {
     "name": "stdout",
     "output_type": "stream",
     "text": [
      "ok\n"
     ]
    }
   ],
   "source": [
    "print('ok')"
   ]
  },
  {
   "cell_type": "markdown",
   "metadata": {
    "papermill": {
     "duration": 0.04617,
     "end_time": "2020-11-22T13:44:11.949542",
     "exception": false,
     "start_time": "2020-11-22T13:44:11.903372",
     "status": "completed"
    },
    "tags": []
   },
   "source": [
    "# 训练模型"
   ]
  },
  {
   "cell_type": "code",
   "execution_count": 29,
   "metadata": {
    "execution": {
     "iopub.execute_input": "2020-11-22T13:44:12.053151Z",
     "iopub.status.busy": "2020-11-22T13:44:12.052460Z",
     "iopub.status.idle": "2020-11-22T14:04:27.140952Z",
     "shell.execute_reply": "2020-11-22T14:04:27.141571Z"
    },
    "papermill": {
     "duration": 1215.14579,
     "end_time": "2020-11-22T14:04:27.141737",
     "exception": false,
     "start_time": "2020-11-22T13:44:11.995947",
     "status": "completed"
    },
    "tags": []
   },
   "outputs": [
    {
     "name": "stdout",
     "output_type": "stream",
     "text": [
      "Epoch 1/40\n",
      "56/56 [==============================] - 68s 1s/step - loss: 0.6465 - binary_crossentropy: 0.6465 - val_loss: 0.6433 - val_binary_crossentropy: 0.6433\n",
      "Epoch 2/40\n",
      "56/56 [==============================] - 68s 1s/step - loss: 0.5966 - binary_crossentropy: 0.5966 - val_loss: 0.6237 - val_binary_crossentropy: 0.6237\n",
      "Epoch 3/40\n",
      "56/56 [==============================] - 68s 1s/step - loss: 0.5735 - binary_crossentropy: 0.5735 - val_loss: 0.6125 - val_binary_crossentropy: 0.6125\n",
      "Epoch 4/40\n",
      "56/56 [==============================] - 67s 1s/step - loss: 0.5583 - binary_crossentropy: 0.5583 - val_loss: 0.6057 - val_binary_crossentropy: 0.6057\n",
      "Epoch 5/40\n",
      "56/56 [==============================] - 68s 1s/step - loss: 0.5530 - binary_crossentropy: 0.5530 - val_loss: 0.6023 - val_binary_crossentropy: 0.6023\n",
      "Epoch 6/40\n",
      "56/56 [==============================] - 66s 1s/step - loss: 0.5506 - binary_crossentropy: 0.5506 - val_loss: 0.6004 - val_binary_crossentropy: 0.6004\n",
      "Epoch 7/40\n",
      "56/56 [==============================] - 66s 1s/step - loss: 0.5491 - binary_crossentropy: 0.5491 - val_loss: 0.5999 - val_binary_crossentropy: 0.5999\n",
      "Epoch 8/40\n",
      "56/56 [==============================] - 67s 1s/step - loss: 0.5481 - binary_crossentropy: 0.5481 - val_loss: 0.5997 - val_binary_crossentropy: 0.5997\n",
      "Epoch 9/40\n",
      "56/56 [==============================] - 65s 1s/step - loss: 0.5473 - binary_crossentropy: 0.5473 - val_loss: 0.5999 - val_binary_crossentropy: 0.5999\n",
      "Epoch 10/40\n",
      "56/56 [==============================] - 65s 1s/step - loss: 0.5466 - binary_crossentropy: 0.5466 - val_loss: 0.6003 - val_binary_crossentropy: 0.6003\n",
      "Epoch 11/40\n",
      "56/56 [==============================] - 65s 1s/step - loss: 0.5459 - binary_crossentropy: 0.5459 - val_loss: 0.6002 - val_binary_crossentropy: 0.6002\n",
      "Epoch 12/40\n",
      "56/56 [==============================] - 65s 1s/step - loss: 0.5450 - binary_crossentropy: 0.5450 - val_loss: 0.6004 - val_binary_crossentropy: 0.6004\n",
      "Epoch 13/40\n",
      "56/56 [==============================] - 65s 1s/step - loss: 0.5439 - binary_crossentropy: 0.5439 - val_loss: 0.6004 - val_binary_crossentropy: 0.6004\n",
      "Epoch 14/40\n",
      "56/56 [==============================] - 65s 1s/step - loss: 0.5422 - binary_crossentropy: 0.5422 - val_loss: 0.6000 - val_binary_crossentropy: 0.6000\n",
      "Epoch 15/40\n",
      "56/56 [==============================] - 64s 1s/step - loss: 0.5383 - binary_crossentropy: 0.5383 - val_loss: 0.6002 - val_binary_crossentropy: 0.6002\n",
      "Epoch 16/40\n",
      "56/56 [==============================] - 65s 1s/step - loss: 0.5380 - binary_crossentropy: 0.5380 - val_loss: 0.6006 - val_binary_crossentropy: 0.6006\n",
      "Epoch 17/40\n",
      "56/56 [==============================] - 65s 1s/step - loss: 0.5376 - binary_crossentropy: 0.5376 - val_loss: 0.6007 - val_binary_crossentropy: 0.6007\n",
      "Epoch 18/40\n",
      "56/56 [==============================] - 65s 1s/step - loss: 0.5373 - binary_crossentropy: 0.5373 - val_loss: 0.6008 - val_binary_crossentropy: 0.6008\n",
      "0.7404011301306058\n"
     ]
    }
   ],
   "source": [
    "model.fit(X_train, y_train,\n",
    "          epochs=40,\n",
    "          batch_size=512 * 500 * 2,\n",
    "          verbose=1,\n",
    "          shuffle=True,\n",
    "          validation_data=(X_test, y_test),\n",
    "          callbacks=[plateau, early_stopping, checkpoint])\n",
    "\n",
    "y_test_proba = model.predict(X_test, verbose=0, batch_size=512 * 500)\n",
    "auc = roc_auc_score(y_test, y_test_proba)\n",
    "print(auc)\n"
   ]
  },
  {
   "cell_type": "code",
   "execution_count": 30,
   "metadata": {
    "execution": {
     "iopub.execute_input": "2020-11-22T14:04:27.966137Z",
     "iopub.status.busy": "2020-11-22T14:04:27.964947Z",
     "iopub.status.idle": "2020-11-22T14:15:39.333405Z",
     "shell.execute_reply": "2020-11-22T14:15:39.331622Z"
    },
    "papermill": {
     "duration": 671.784472,
     "end_time": "2020-11-22T14:15:39.333606",
     "exception": false,
     "start_time": "2020-11-22T14:04:27.549134",
     "status": "completed"
    },
    "tags": []
   },
   "outputs": [
    {
     "name": "stdout",
     "output_type": "stream",
     "text": [
      "Epoch 1/10\n",
      "56/56 [==============================] - 66s 1s/step - loss: 0.5370 - binary_crossentropy: 0.5370 - val_loss: 0.6009 - val_binary_crossentropy: 0.6009\n",
      "Epoch 2/10\n",
      "56/56 [==============================] - 66s 1s/step - loss: 0.5367 - binary_crossentropy: 0.5367 - val_loss: 0.6010 - val_binary_crossentropy: 0.6010\n",
      "Epoch 3/10\n",
      "56/56 [==============================] - 66s 1s/step - loss: 0.5364 - binary_crossentropy: 0.5364 - val_loss: 0.6010 - val_binary_crossentropy: 0.6010\n",
      "Epoch 4/10\n",
      "56/56 [==============================] - 65s 1s/step - loss: 0.5361 - binary_crossentropy: 0.5361 - val_loss: 0.6010 - val_binary_crossentropy: 0.6010\n",
      "Epoch 5/10\n",
      "56/56 [==============================] - 65s 1s/step - loss: 0.5358 - binary_crossentropy: 0.5358 - val_loss: 0.6011 - val_binary_crossentropy: 0.6011\n",
      "Epoch 6/10\n",
      "56/56 [==============================] - 65s 1s/step - loss: 0.5354 - binary_crossentropy: 0.5354 - val_loss: 0.6012 - val_binary_crossentropy: 0.6012\n",
      "Epoch 7/10\n",
      "56/56 [==============================] - 65s 1s/step - loss: 0.5351 - binary_crossentropy: 0.5351 - val_loss: 0.6012 - val_binary_crossentropy: 0.6012\n",
      "Epoch 8/10\n",
      "56/56 [==============================] - 66s 1s/step - loss: 0.5346 - binary_crossentropy: 0.5346 - val_loss: 0.6012 - val_binary_crossentropy: 0.6012\n",
      "Epoch 9/10\n",
      "56/56 [==============================] - 65s 1s/step - loss: 0.5346 - binary_crossentropy: 0.5346 - val_loss: 0.6012 - val_binary_crossentropy: 0.6012\n",
      "Epoch 10/10\n",
      "56/56 [==============================] - 64s 1s/step - loss: 0.5345 - binary_crossentropy: 0.5345 - val_loss: 0.6012 - val_binary_crossentropy: 0.6012\n",
      "0.7403468763224256\n"
     ]
    }
   ],
   "source": [
    "model.fit(X_train, y_train,\n",
    "          epochs=10,\n",
    "          batch_size=512 * 500 * 2 ,\n",
    "          verbose=1,\n",
    "          shuffle=True,\n",
    "          validation_data=(X_test, y_test),\n",
    "          callbacks=[plateau, early_stopping, checkpoint])\n",
    "\n",
    "y_test_proba = model.predict(X_test, verbose=0, batch_size=512 * 500)\n",
    "auc = roc_auc_score(y_test, y_test_proba)\n",
    "print(auc)"
   ]
  },
  {
   "cell_type": "code",
   "execution_count": 31,
   "metadata": {
    "execution": {
     "iopub.execute_input": "2020-11-22T14:15:40.569869Z",
     "iopub.status.busy": "2020-11-22T14:15:40.569154Z",
     "iopub.status.idle": "2020-11-22T14:15:40.574939Z",
     "shell.execute_reply": "2020-11-22T14:15:40.575654Z"
    },
    "papermill": {
     "duration": 0.622587,
     "end_time": "2020-11-22T14:15:40.575969",
     "exception": false,
     "start_time": "2020-11-22T14:15:39.953382",
     "status": "completed"
    },
    "tags": []
   },
   "outputs": [
    {
     "name": "stdout",
     "output_type": "stream",
     "text": [
      "ok\n"
     ]
    }
   ],
   "source": [
    "print('ok')"
   ]
  },
  {
   "cell_type": "markdown",
   "metadata": {
    "papermill": {
     "duration": 0.809356,
     "end_time": "2020-11-22T14:15:42.074636",
     "exception": false,
     "start_time": "2020-11-22T14:15:41.265280",
     "status": "completed"
    },
    "tags": []
   },
   "source": [
    "# 提交结果"
   ]
  },
  {
   "cell_type": "code",
   "execution_count": 32,
   "metadata": {
    "execution": {
     "iopub.execute_input": "2020-11-22T14:15:43.676966Z",
     "iopub.status.busy": "2020-11-22T14:15:43.675816Z",
     "iopub.status.idle": "2020-11-22T14:15:44.538603Z",
     "shell.execute_reply": "2020-11-22T14:15:44.537946Z"
    },
    "papermill": {
     "duration": 1.831089,
     "end_time": "2020-11-22T14:15:44.538733",
     "exception": false,
     "start_time": "2020-11-22T14:15:42.707644",
     "status": "completed"
    },
    "tags": []
   },
   "outputs": [
    {
     "name": "stdout",
     "output_type": "stream",
     "text": [
      "user_id\n",
      "content_id\n",
      "task_container_id\n",
      "prior_question_had_explanation\n",
      "bundle_id\n",
      "part\n",
      "timestamp\n",
      "prior_question_elapsed_time\n",
      "user_id\n",
      "content_id\n",
      "task_container_id\n",
      "prior_question_had_explanation\n",
      "bundle_id\n",
      "part\n",
      "timestamp\n",
      "prior_question_elapsed_time\n",
      "user_id\n",
      "content_id\n",
      "task_container_id\n",
      "prior_question_had_explanation\n",
      "bundle_id\n",
      "part\n",
      "timestamp\n",
      "prior_question_elapsed_time\n",
      "user_id\n",
      "content_id\n",
      "task_container_id\n",
      "prior_question_had_explanation\n",
      "bundle_id\n",
      "part\n",
      "timestamp\n",
      "prior_question_elapsed_time\n"
     ]
    }
   ],
   "source": [
    "iter_test = env.iter_test()\n",
    "\n",
    "for (test_df, sample_prediction_df) in iter_test:\n",
    "\n",
    "    test_df['prior_question_had_explanation'] = test_df['prior_question_had_explanation'].map({'True':1,'False':0}).fillna(-1).astype(np.int8)\n",
    "\n",
    "    test_df = pd.merge(\n",
    "        left=test_df,\n",
    "        right=questions,\n",
    "        how='left',\n",
    "        left_on='content_id',\n",
    "        right_on='question_id'\n",
    "        )\n",
    "    \n",
    "#     test_df = pd.merge(\n",
    "#         left=test_df,\n",
    "#         right=lectures,\n",
    "#         how='right',\n",
    "#         left_on='content_id',\n",
    "#         right_on='lecture_id'\n",
    "#         )\n",
    "\n",
    "    test_df = test_df.fillna(0)\n",
    "\n",
    "\n",
    "    for columns in ['user_id','content_id',\\\n",
    "                    'task_container_id','prior_question_had_explanation',\\\n",
    "                    'bundle_id','part']:\n",
    "\n",
    "        test_df[columns] = dict_cat_class[columns].transform(test_df[columns])\n",
    "        print(columns)\n",
    "\n",
    "\n",
    "    for columns in ['timestamp','prior_question_elapsed_time']:\n",
    "\n",
    "        test_df[columns] = dict_float_class[columns].transform(test_df[columns])\n",
    "        print(columns)\n",
    "\n",
    "    X_test = [test_df[columns].values for columns in features_columns]\n",
    "\n",
    "    test_df['answered_correctly'] =  model.predict(X_test, verbose=0, batch_size=512 * 500)\n",
    "    env.predict(test_df.loc[test_df['content_type_id'] == 0, ['row_id', 'answered_correctly']])\n"
   ]
  },
  {
   "cell_type": "code",
   "execution_count": null,
   "metadata": {
    "papermill": {
     "duration": 0.65422,
     "end_time": "2020-11-22T14:15:45.828604",
     "exception": false,
     "start_time": "2020-11-22T14:15:45.174384",
     "status": "completed"
    },
    "tags": []
   },
   "outputs": [],
   "source": []
  }
 ],
 "metadata": {
  "kernelspec": {
   "display_name": "Python 3",
   "language": "python",
   "name": "python3"
  },
  "language_info": {
   "codemirror_mode": {
    "name": "ipython",
    "version": 3
   },
   "file_extension": ".py",
   "mimetype": "text/x-python",
   "name": "python",
   "nbconvert_exporter": "python",
   "pygments_lexer": "ipython3",
   "version": "3.7.6"
  },
  "papermill": {
   "duration": 2424.438407,
   "end_time": "2020-11-22T14:15:48.608413",
   "environment_variables": {},
   "exception": null,
   "input_path": "__notebook__.ipynb",
   "output_path": "__notebook__.ipynb",
   "parameters": {},
   "start_time": "2020-11-22T13:35:24.170006",
   "version": "2.1.0"
  }
 },
 "nbformat": 4,
 "nbformat_minor": 4
}
